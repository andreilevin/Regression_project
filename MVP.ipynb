{
 "cells": [
  {
   "cell_type": "markdown",
   "id": "1e2656c1",
   "metadata": {},
   "source": [
    "## Predicting NBA Free Agent Salaries"
   ]
  },
  {
   "cell_type": "markdown",
   "id": "505b3262",
   "metadata": {},
   "source": [
    "The goal of this project is to predict the average annual salary an NBA player will command in free agency, based on his stats from the previous season as well as some other relevant information (height, weight, age, position, and previous salary).  For my MVP, I scraped basketball-reference.com for a list of 2019 free agents and got their previous season stats as features, as well as their next year's salary as a target.  With 160 rows of player data and 18 feature columns, I ran a vanilla Linear Regression model and ended up with R2's of 0.83 on my train set and 0.53 on my test set."
   ]
  },
  {
   "cell_type": "markdown",
   "id": "79f3c70f",
   "metadata": {},
   "source": [
    "<img src=\"https://raw.githubusercontent.com/andreilevin/Regression_project/main/mvpfig1.png\" \n",
    "      title=\"MVP Figure\" width=\"550\"/>"
   ]
  },
  {
   "cell_type": "markdown",
   "id": "de3eb14c",
   "metadata": {},
   "source": [
    "However, it's unclear how proud of this result I should be, since the feature that seemed most correlated to next year's salary was last year's salary:"
   ]
  },
  {
   "cell_type": "markdown",
   "id": "05a7f4b4",
   "metadata": {},
   "source": [
    "<img src=\"https://raw.githubusercontent.com/andreilevin/Regression_project/main/mvpfig2.png\" \n",
    "      title=\"MVP Figure\" width=\"500\"/>"
   ]
  },
  {
   "cell_type": "markdown",
   "id": "b6e66f13",
   "metadata": {},
   "source": [
    "The next step will be to scrape and combine several years of data, do a more thoughtful job of data cleaning, and try various feature engineering, cross-validation, regularization, and hyperparameter tuning approaches."
   ]
  },
  {
   "cell_type": "code",
   "execution_count": null,
   "id": "7d177c47",
   "metadata": {},
   "outputs": [],
   "source": []
  }
 ],
 "metadata": {
  "kernelspec": {
   "display_name": "Python 3",
   "language": "python",
   "name": "python3"
  },
  "language_info": {
   "codemirror_mode": {
    "name": "ipython",
    "version": 3
   },
   "file_extension": ".py",
   "mimetype": "text/x-python",
   "name": "python",
   "nbconvert_exporter": "python",
   "pygments_lexer": "ipython3",
   "version": "3.8.5"
  }
 },
 "nbformat": 4,
 "nbformat_minor": 5
}
